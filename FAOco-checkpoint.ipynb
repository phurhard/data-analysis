{
 "cells": [
  {
   "cell_type": "code",
   "execution_count": null,
   "metadata": {},
   "outputs": [],
   "source": [
    "import pandas as pd\n",
    "col=['Area Abbreviation','Area Code',\n",
    "     'Area','Item Code','Item','Element Code,'\n",
    "     'Element','Unit','latitude','longitude',\n",
    "     'Y1961','Y1962','Y1963','Y1964','Y1965','Y1966',\n",
    "     'Y1967','Y1968','Y1969','Y1970','Y1971','Y1972',\n",
    "     'Y1973','Y1974','Y1975','Y1976','Y1977','Y1978',\n",
    "     'Y1979','Y1980','Y1981','Y1982','Y1983','Y1984',\n",
    "     'Y1985','Y1986','Y1987','Y1988','Y1989','Y1990',\n",
    "     'Y1991','Y1992','Y1993','Y1994','Y1995','Y1996',\n",
    "     'Y1997','Y1998','Y1999','Y2000','Y2001','Y2002',\n",
    "     'Y2003','Y2004','Y2005','Y2006','Y2007','Y2008',\n",
    "     'Y2009','Y2010','Y2011','Y2012','Y2013']\n",
    "file=pd.read_csv('FAO+database.csv', encoding='latin-1')\n",
    "\n",
    "file"
   ]
  },
  {
   "cell_type": "code",
   "execution_count": null,
   "metadata": {},
   "outputs": [],
   "source": [
    "file.columns"
   ]
  },
  {
   "cell_type": "code",
   "execution_count": null,
   "metadata": {},
   "outputs": [],
   "source": [
    "#products of countries in each year\n",
    "file.groupby(['Area','Element'])['Y1961','Y1962','Y1963','Y1964','Y1965','Y1966',\n",
    "     'Y1967','Y1968','Y1969','Y1970','Y1971','Y1972',\n",
    "     'Y1973','Y1974','Y1975','Y1976','Y1977','Y1978',\n",
    "     'Y1979','Y1980','Y1981','Y1982','Y1983','Y1984',\n",
    "     'Y1985','Y1986','Y1987','Y1988','Y1989','Y1990',\n",
    "     'Y1991','Y1992','Y1993','Y1994','Y1995','Y1996',\n",
    "     'Y1997','Y1998','Y1999','Y2000','Y2001','Y2002',\n",
    "     'Y2003','Y2004','Y2005','Y2006','Y2007','Y2008',\n",
    "     'Y2009','Y2010','Y2011','Y2012','Y2013'].sum()"
   ]
  },
  {
   "cell_type": "code",
   "execution_count": null,
   "metadata": {},
   "outputs": [],
   "source": [
    "#trying to get the rate at which a particular item is produced\n",
    "u=file.groupby('Item')['Y1961','Y1962','Y1963','Y1964','Y1965','Y1966',\n",
    "     'Y1967','Y1968','Y1969','Y1970','Y1971','Y1972',\n",
    "     'Y1973','Y1974','Y1975','Y1976','Y1977','Y1978',\n",
    "     'Y1979','Y1980','Y1981','Y1982','Y1983','Y1984',\n",
    "     'Y1985','Y1986','Y1987','Y1988','Y1989','Y1990',\n",
    "     'Y1991','Y1992','Y1993','Y1994','Y1995','Y1996',\n",
    "     'Y1997','Y1998','Y1999','Y2000','Y2001','Y2002',\n",
    "     'Y2003','Y2004','Y2005','Y2006','Y2007','Y2008',\n",
    "     'Y2009','Y2010','Y2011','Y2012','Y2013'].sum()"
   ]
  },
  {
   "cell_type": "code",
   "execution_count": null,
   "metadata": {},
   "outputs": [],
   "source": [
    "u"
   ]
  },
  {
   "cell_type": "code",
   "execution_count": null,
   "metadata": {},
   "outputs": [],
   "source": [
    "m=u.loc['Animal fats']"
   ]
  },
  {
   "cell_type": "code",
   "execution_count": null,
   "metadata": {},
   "outputs": [],
   "source": [
    "n=u.loc['Cereals - Excluding Beer']"
   ]
  },
  {
   "cell_type": "code",
   "execution_count": null,
   "metadata": {},
   "outputs": [],
   "source": [
    "%matplotlib notebook\n",
    "import matplotlib.pyplot as plt\n",
    "plt.plot(m[::3])\n",
    "plt.title('rate of production of animal fats')\n",
    "plt.show()"
   ]
  },
  {
   "cell_type": "code",
   "execution_count": null,
   "metadata": {},
   "outputs": [],
   "source": [
    "plt.plot(n[::3])\n",
    "plt.title('rate of production of cereals ')\n",
    "plt.show()"
   ]
  },
  {
   "cell_type": "code",
   "execution_count": null,
   "metadata": {},
   "outputs": [],
   "source": [
    "#trying to get the rate at which a particular item is produced\n",
    "uc=file.groupby('Element')['Y1961','Y1962','Y1963','Y1964','Y1965','Y1966',\n",
    "     'Y1967','Y1968','Y1969','Y1970','Y1971','Y1972',\n",
    "     'Y1973','Y1974','Y1975','Y1976','Y1977','Y1978',\n",
    "     'Y1979','Y1980','Y1981','Y1982','Y1983','Y1984',\n",
    "     'Y1985','Y1986','Y1987','Y1988','Y1989','Y1990',\n",
    "     'Y1991','Y1992','Y1993','Y1994','Y1995','Y1996',\n",
    "     'Y1997','Y1998','Y1999','Y2000','Y2001','Y2002',\n",
    "     'Y2003','Y2004','Y2005','Y2006','Y2007','Y2008',\n",
    "     'Y2009','Y2010','Y2011','Y2012','Y2013'].sum()\n",
    "uc"
   ]
  },
  {
   "cell_type": "code",
   "execution_count": null,
   "metadata": {},
   "outputs": [],
   "source": [
    "\n",
    "b=uc.loc['Feed']"
   ]
  },
  {
   "cell_type": "code",
   "execution_count": null,
   "metadata": {},
   "outputs": [],
   "source": [
    "#uc=uc.unstack()\n",
    "plt.plot(b[::2])\n",
    "plt.title('Rate of production of feed')\n"
   ]
  },
  {
   "cell_type": "code",
   "execution_count": null,
   "metadata": {
    "scrolled": true
   },
   "outputs": [],
   "source": [
    "x=uc.loc['Food']\n",
    "plt.plot(x[::2])\n",
    "plt.title('Rate of production of food')"
   ]
  },
  {
   "cell_type": "code",
   "execution_count": null,
   "metadata": {},
   "outputs": [],
   "source": []
  },
  {
   "cell_type": "code",
   "execution_count": null,
   "metadata": {},
   "outputs": [],
   "source": [
    "area=file[(file['Element']=='Food')]\n",
    "sert=file.groupby(['Area','Element'])['Item'].size()\n",
    "sert"
   ]
  },
  {
   "cell_type": "code",
   "execution_count": null,
   "metadata": {},
   "outputs": [],
   "source": [
    "#minimun produce for countries\n",
    "file.groupby(['Area','Element'])['Y1961','Y1962','Y1963','Y1964','Y1965','Y1966',\n",
    "     'Y1967','Y1968','Y1969','Y1970','Y1971','Y1972',\n",
    "     'Y1973','Y1974','Y1975','Y1976','Y1977','Y1978',\n",
    "     'Y1979','Y1980','Y1981','Y1982','Y1983','Y1984',\n",
    "     'Y1985','Y1986','Y1987','Y1988','Y1989','Y1990',\n",
    "     'Y1991','Y1992','Y1993','Y1994','Y1995','Y1996',\n",
    "     'Y1997','Y1998','Y1999','Y2000','Y2001','Y2002',\n",
    "     'Y2003','Y2004','Y2005','Y2006','Y2007','Y2008',\n",
    "     'Y2009','Y2010','Y2011','Y2012','Y2013'].sum().min(axis=1)"
   ]
  },
  {
   "cell_type": "code",
   "execution_count": null,
   "metadata": {},
   "outputs": [],
   "source": [
    "#maximun produce for countries\n",
    "file.groupby(['Area','Element'])['Y1961','Y1962','Y1963','Y1964','Y1965','Y1966',\n",
    "     'Y1967','Y1968','Y1969','Y1970','Y1971','Y1972',\n",
    "     'Y1973','Y1974','Y1975','Y1976','Y1977','Y1978',\n",
    "     'Y1979','Y1980','Y1981','Y1982','Y1983','Y1984',\n",
    "     'Y1985','Y1986','Y1987','Y1988','Y1989','Y1990',\n",
    "     'Y1991','Y1992','Y1993','Y1994','Y1995','Y1996',\n",
    "     'Y1997','Y1998','Y1999','Y2000','Y2001','Y2002',\n",
    "     'Y2003','Y2004','Y2005','Y2006','Y2007','Y2008',\n",
    "     'Y2009','Y2010','Y2011','Y2012','Y2013'].sum().max(axis=1)"
   ]
  },
  {
   "cell_type": "code",
   "execution_count": null,
   "metadata": {},
   "outputs": [],
   "source": [
    "file.groupby(['Area','Element'])['Y1961','Y1962','Y1963','Y1964','Y1965','Y1966',\n",
    "     'Y1967','Y1968','Y1969','Y1970','Y1971','Y1972',\n",
    "     'Y1973','Y1974','Y1975','Y1976','Y1977','Y1978',\n",
    "     'Y1979','Y1980','Y1981','Y1982','Y1983','Y1984',\n",
    "     'Y1985','Y1986','Y1987','Y1988','Y1989','Y1990',\n",
    "     'Y1991','Y1992','Y1993','Y1994','Y1995','Y1996',\n",
    "     'Y1997','Y1998','Y1999','Y2000','Y2001','Y2002',\n",
    "     'Y2003','Y2004','Y2005','Y2006','Y2007','Y2008',\n",
    "     'Y2009','Y2010','Y2011','Y2012','Y2013'].sum().mean(axis=1)"
   ]
  },
  {
   "cell_type": "code",
   "execution_count": null,
   "metadata": {},
   "outputs": [],
   "source": [
    "file.describe()"
   ]
  },
  {
   "cell_type": "code",
   "execution_count": null,
   "metadata": {},
   "outputs": [],
   "source": [
    "#the latitudes of the areas\n",
    "%matplotlib notebook\n",
    "import matplotlib.pyplot as plt\n",
    "file['latitude'].plot(kind='hist',bins=100)\n",
    "plt.xlabel('Latitude values')"
   ]
  },
  {
   "cell_type": "code",
   "execution_count": null,
   "metadata": {},
   "outputs": [],
   "source": [
    "\n",
    "area\n",
    "data=area.groupby('Area')['Y2010'].sum()\n",
    "data.sort_values()[-10:].plot(kind='barh')\n",
    "plt.title('Top ten food producers in year 2010')\n",
    "plt.xlabel('Food produced(tonnes)')"
   ]
  },
  {
   "cell_type": "code",
   "execution_count": null,
   "metadata": {},
   "outputs": [],
   "source": [
    "area\n",
    "data=area.groupby('Area')['Y2010'].sum()\n",
    "data.sort_values()[:10].plot(kind='barh')\n",
    "plt.title('Least ten food producers in year 2010')\n",
    "plt.xlabel('Food produced(tonnes)')"
   ]
  },
  {
   "cell_type": "code",
   "execution_count": null,
   "metadata": {},
   "outputs": [],
   "source": [
    "are=file[(file['Element']=='Feed')]\n",
    "data=are.groupby('Area')['Y2010'].sum()\n",
    "data.sort_values()[-10:].plot(kind='barh')\n",
    "plt.title('Top ten feed producers in year 2010')\n",
    "plt.xlabel('Feed produced(tonnes)')"
   ]
  },
  {
   "cell_type": "code",
   "execution_count": null,
   "metadata": {},
   "outputs": [],
   "source": [
    "can=area.groupby('Item').size()"
   ]
  },
  {
   "cell_type": "code",
   "execution_count": null,
   "metadata": {},
   "outputs": [],
   "source": [
    "can"
   ]
  },
  {
   "cell_type": "code",
   "execution_count": null,
   "metadata": {},
   "outputs": [],
   "source": [
    "pd.options.display.max_rows=100\n",
    "can.plot()\n",
    "#can"
   ]
  },
  {
   "cell_type": "code",
   "execution_count": null,
   "metadata": {},
   "outputs": [],
   "source": [
    "are=file[(file['Element']=='Feed')]\n",
    "data=are.groupby('Area')['Y2010'].sum()\n",
    "data.sort_values()[:20].plot(kind='barh')\n",
    "plt.title('Least twenty feed producers in year 2010')\n",
    "plt.xlabel('Feed produced(tonnes)')"
   ]
  },
  {
   "cell_type": "code",
   "execution_count": null,
   "metadata": {},
   "outputs": [],
   "source": []
  },
  {
   "cell_type": "code",
   "execution_count": null,
   "metadata": {},
   "outputs": [],
   "source": [
    "d=file.filter(regex='\\d')#.head()\n"
   ]
  },
  {
   "cell_type": "code",
   "execution_count": null,
   "metadata": {},
   "outputs": [],
   "source": [
    "d.max().plot(kind='bar')\n",
    "plt.title('Maximum produce per year')"
   ]
  },
  {
   "cell_type": "code",
   "execution_count": null,
   "metadata": {},
   "outputs": [],
   "source": [
    "#products in year\n",
    "file.groupby(['Area','Item'])['Y1961','Y1962','Y1963','Y1964','Y1965','Y1966',\n",
    "     'Y1967','Y1968','Y1969','Y1970','Y1971','Y1972',\n",
    "     'Y1973','Y1974','Y1975','Y1976','Y1977','Y1978',\n",
    "     'Y1979','Y1980','Y1981','Y1982','Y1983','Y1984',\n",
    "     'Y1985','Y1986','Y1987','Y1988','Y1989','Y1990',\n",
    "     'Y1991','Y1992','Y1993','Y1994','Y1995','Y1996',\n",
    "     'Y1997','Y1998','Y1999','Y2000','Y2001','Y2002',\n",
    "     'Y2003','Y2004','Y2005','Y2006','Y2007','Y2008',\n",
    "     'Y2009','Y2010','Y2011','Y2012','Y2013'].max()"
   ]
  },
  {
   "cell_type": "code",
   "execution_count": null,
   "metadata": {},
   "outputs": [],
   "source": [
    "#sum of produce per year\n",
    "p=file.groupby(['Area','Item'])['Y1961','Y1962','Y1963','Y1964','Y1965','Y1966',\n",
    "     'Y1967','Y1968','Y1969','Y1970','Y1971','Y1972',\n",
    "     'Y1973','Y1974','Y1975','Y1976','Y1977','Y1978',\n",
    "     'Y1979','Y1980','Y1981','Y1982','Y1983','Y1984',\n",
    "     'Y1985','Y1986','Y1987','Y1988','Y1989','Y1990',\n",
    "     'Y1991','Y1992','Y1993','Y1994','Y1995','Y1996',\n",
    "     'Y1997','Y1998','Y1999','Y2000','Y2001','Y2002',\n",
    "     'Y2003','Y2004','Y2005','Y2006','Y2007','Y2008',\n",
    "     'Y2009','Y2010','Y2011','Y2012','Y2013']\n",
    "p.sum().mean(axis=1)"
   ]
  },
  {
   "cell_type": "code",
   "execution_count": null,
   "metadata": {},
   "outputs": [],
   "source": [
    "file.groupby(['Area','Item'])['Y1961','Y1962','Y1963','Y1964','Y1965','Y1966',\n",
    "     'Y1967','Y1968','Y1969','Y1970','Y1971','Y1972',\n",
    "     'Y1973','Y1974','Y1975','Y1976','Y1977','Y1978',\n",
    "     'Y1979','Y1980','Y1981','Y1982','Y1983','Y1984',\n",
    "     'Y1985','Y1986','Y1987','Y1988','Y1989','Y1990',\n",
    "     'Y1991','Y1992','Y1993','Y1994','Y1995','Y1996',\n",
    "     'Y1997','Y1998','Y1999','Y2000','Y2001','Y2002',\n",
    "     'Y2003','Y2004','Y2005','Y2006','Y2007','Y2008',\n",
    "     'Y2009','Y2010','Y2011','Y2012','Y2013'].sum().max(axis=1)"
   ]
  },
  {
   "cell_type": "code",
   "execution_count": null,
   "metadata": {},
   "outputs": [],
   "source": [
    "file.groupby(['Area','Item'])['Y1961','Y1962','Y1963','Y1964','Y1965','Y1966',\n",
    "     'Y1967','Y1968','Y1969','Y1970','Y1971','Y1972',\n",
    "     'Y1973','Y1974','Y1975','Y1976','Y1977','Y1978',\n",
    "     'Y1979','Y1980','Y1981','Y1982','Y1983','Y1984',\n",
    "     'Y1985','Y1986','Y1987','Y1988','Y1989','Y1990',\n",
    "     'Y1991','Y1992','Y1993','Y1994','Y1995','Y1996',\n",
    "     'Y1997','Y1998','Y1999','Y2000','Y2001','Y2002',\n",
    "     'Y2003','Y2004','Y2005','Y2006','Y2007','Y2008',\n",
    "     'Y2009','Y2010','Y2011','Y2012','Y2013'].sum().min(axis=1)"
   ]
  },
  {
   "cell_type": "code",
   "execution_count": null,
   "metadata": {},
   "outputs": [],
   "source": []
  }
 ],
 "metadata": {
  "kernelspec": {
   "display_name": "Python 3",
   "language": "python",
   "name": "python3"
  },
  "language_info": {
   "codemirror_mode": {
    "name": "ipython",
    "version": 3
   },
   "file_extension": ".py",
   "mimetype": "text/x-python",
   "name": "python",
   "nbconvert_exporter": "python",
   "pygments_lexer": "ipython3",
   "version": "3.7.3"
  }
 },
 "nbformat": 4,
 "nbformat_minor": 2
}
